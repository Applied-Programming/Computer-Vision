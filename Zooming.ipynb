{
 "cells": [
  {
   "cell_type": "markdown",
   "metadata": {},
   "source": [
    "\n",
    "# Zooming\n",
    "\n",
    "This example shows how to implement a simple high-resolution image navigation\n",
    "\n",
    "<hr>\n",
    "\n",
    "Usage\n",
    "-----\n",
    "browse.py [image filename]"
   ]
  },
  {
   "cell_type": "markdown",
   "metadata": {},
   "source": [
    "## browse.py\n"
   ]
  },
  {
   "cell_type": "code",
   "execution_count": null,
   "metadata": {
    "collapsed": true
   },
   "outputs": [],
   "source": [
    "# Python 2/3 compatibility\n",
    "from __future__ import print_function\n",
    "import sys\n",
    "PY3 = sys.version_info[0] == 3\n",
    "\n",
    "if PY3:\n",
    "    xrange = range\n",
    "\n",
    "import numpy as np\n",
    "import cv2\n",
    "\n",
    "# built-in modules\n",
    "import sys\n",
    "\n",
    "if __name__ == '__main__':\n",
    "    print('This sample shows how to implement a simple hi resolution image navigation.')\n",
    "    print('USAGE: browse.py [image filename]')\n",
    "    print()\n",
    "\n",
    "    if len(sys.argv) > 1:\n",
    "        fn = sys.argv[1]\n",
    "        print('loading %s ...' % fn)\n",
    "        img = cv2.imread(fn)\n",
    "        if img is None:\n",
    "            print('Failed to load fn:', fn)\n",
    "            sys.exit(1)\n",
    "\n",
    "    else:\n",
    "        sz = 4096\n",
    "        print('generating %dx%d procedural image ...' % (sz, sz))\n",
    "        img = np.zeros((sz, sz), np.uint8)\n",
    "        track = np.cumsum(np.random.rand(500000, 2)-0.5, axis=0)\n",
    "        track = np.int32(track*10 + (sz/2, sz/2))\n",
    "        cv2.polylines(img, [track], 0, 255, 1, cv2.LINE_AA)\n",
    "\n",
    "\n",
    "    small = img\n",
    "    for i in xrange(3):\n",
    "        small = cv2.pyrDown(small)\n",
    "\n",
    "    def onmouse(event, x, y, flags, param):\n",
    "        h, w = img.shape[:2]\n",
    "        h1, w1 = small.shape[:2]\n",
    "        x, y = 1.0*x*h/h1, 1.0*y*h/h1\n",
    "        zoom = cv2.getRectSubPix(img, (800, 600), (x+0.5, y+0.5))\n",
    "        cv2.imshow('zoom', zoom)\n",
    "\n",
    "    cv2.imshow('preview', small)\n",
    "    cv2.setMouseCallback('preview', onmouse)\n",
    "    cv2.waitKey()\n",
    "    cv2.destroyAllWindows()"
   ]
  },
  {
   "cell_type": "markdown",
   "metadata": {},
   "source": [
    "<hr>"
   ]
  }
 ],
 "metadata": {
  "kernelspec": {
   "display_name": "Python 2",
   "language": "python",
   "name": "python2"
  },
  "language_info": {
   "codemirror_mode": {
    "name": "ipython",
    "version": 2
   },
   "file_extension": ".py",
   "mimetype": "text/x-python",
   "name": "python",
   "nbconvert_exporter": "python",
   "pygments_lexer": "ipython2",
   "version": "2.7.13rc1"
  }
 },
 "nbformat": 4,
 "nbformat_minor": 2
}
