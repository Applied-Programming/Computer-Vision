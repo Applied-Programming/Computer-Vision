{
 "cells": [
  {
   "cell_type": "markdown",
   "metadata": {
    "deletable": true,
    "editable": true
   },
   "source": [
    "# Zooming\n",
    "<hr>\n",
    "\n",
    "This example shows how to implement a simple high-resolution image navigation using OpenCV for Python.\n",
    "We simply use the cv2.getRectSubPix() function which contains the following parameters : \n",
    "\n",
    "Parameters:\t\n",
    "* src – Source image.\n",
    "* patchSize – Size of the extracted patch.\n",
    "* center – Floating point coordinates of the center of the extracted rectangle within the source image. The center must be inside the image.\n",
    "\n",
    "<hr>\n",
    "\n",
    "\n",
    "## zoom.py\n"
   ]
  },
  {
   "cell_type": "code",
   "execution_count": null,
   "metadata": {
    "collapsed": true,
    "deletable": true,
    "editable": true
   },
   "outputs": [],
   "source": [
    "#!/usr/bin/env python\n",
    "# Python 2/3 compatibility\n",
    "from __future__ import print_function\n",
    "import sys\n",
    "PY3 = sys.version_info[0] == 3\n",
    "\n",
    "if PY3:\n",
    "    xrange = range\n",
    "\n",
    "import numpy as np\n",
    "import cv2\n",
    "\n",
    "# built-in modules\n",
    "import sys\n",
    "\n",
    "if __name__ == '__main__':\n",
    "    print('This example shows how to implement a simple hi resolution image navigation.')\n",
    "    print('USAGE: browse.py [image filename]')\n",
    "    print()\n",
    "\n",
    "    fn = 'images/hi-res-nyc.jpg'\n",
    "    print('loading %s ...' % fn)\n",
    "    img = cv2.imread(fn)\n",
    "    if img is None:\n",
    "        print('Failed to load fn:', fn)\n",
    "        sys.exit(1)\n",
    "        \n",
    "    small = img\n",
    "    for i in xrange(3):\n",
    "        small = cv2.pyrDown(small)\n",
    "\n",
    "    def onmouse(event, x, y, flags, param):\n",
    "        h, w = img.shape[:2]\n",
    "        h1, w1 = small.shape[:2]\n",
    "        x, y = 1.0*x*h/h1, 1.0*y*h/h1\n",
    "        zoom = cv2.getRectSubPix(img, (800, 600), (x+0.5, y+0.5))\n",
    "        cv2.imshow('zoom', zoom)\n",
    "\n",
    "    cv2.imshow('preview', small)\n",
    "    cv2.setMouseCallback('preview', onmouse)\n",
    "    cv2.waitKey()\n",
    "    cv2.destroyAllWindows()\n"
   ]
  },
  {
   "cell_type": "markdown",
   "metadata": {
    "deletable": true,
    "editable": true
   },
   "source": [
    "The output of this script is as follows:\n",
    "\n",
    "![Output Image](https://raw.githubusercontent.com/Applied-Programming/Computer-Vision/master/captures/zoom.png \"Zooming\")"
   ]
  },
  {
   "cell_type": "markdown",
   "metadata": {
    "deletable": true,
    "editable": true
   },
   "source": [
    "The program zooms that patch of the hi-res image where the cursor is currently positioned."
   ]
  },
  {
   "cell_type": "markdown",
   "metadata": {
    "deletable": true,
    "editable": true
   },
   "source": [
    "<hr>"
   ]
  }
 ],
 "metadata": {
  "kernelspec": {
   "display_name": "Python 2",
   "language": "python",
   "name": "python2"
  },
  "language_info": {
   "codemirror_mode": {
    "name": "ipython",
    "version": 2
   },
   "file_extension": ".py",
   "mimetype": "text/x-python",
   "name": "python",
   "nbconvert_exporter": "python",
   "pygments_lexer": "ipython2",
   "version": "2.7.13rc1"
  }
 },
 "nbformat": 4,
 "nbformat_minor": 2
}
