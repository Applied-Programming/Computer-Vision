{
 "cells": [
  {
   "cell_type": "markdown",
   "metadata": {},
   "source": [
    "# FloodFill demo\n",
    "<hr>\n",
    "\n",
    "Click on the image to set seed point. This example imitates the FloodFill colour functionality of the MS Windows Paint program.\n",
    "\n",
    "#### Usage: \n",
    "\n",
    "Keys to handle the GUI functions:\n",
    "*  f     - toggle floating range\n",
    "*  c     - toggle 4/8 connectivity\n",
    "*  ESC   - exit"
   ]
  },
  {
   "cell_type": "markdown",
   "metadata": {},
   "source": [
    "I used the following sample image and coloured it using the following script. The script outputs a GUI containing trackbars to choose the RGB value and also to set the resolution. You have to click on a portion in the image to 'floodfill' it with a colour corresponding to the chosen RGB value."
   ]
  },
  {
   "cell_type": "markdown",
   "metadata": {},
   "source": [
    "<img src=\"images/floodfillshapes.png\">"
   ]
  },
  {
   "cell_type": "code",
   "execution_count": null,
   "metadata": {
    "collapsed": false
   },
   "outputs": [],
   "source": [
    "#!/usr/bin/env python\n",
    "# Python 2/3 compatibility\n",
    "from __future__ import print_function\n",
    "\n",
    "import numpy as np\n",
    "import cv2\n",
    "\n",
    "if __name__ == '__main__':\n",
    "    import sys\n",
    "    \n",
    "    fn = 'floodfillshapes.png'\n",
    "    img = cv2.imread(fn, True)\n",
    "    if img is None:\n",
    "        print('Failed to load image file:', fn)\n",
    "        sys.exit(1)\n",
    "\n",
    "    h, w = img.shape[:2]\n",
    "    mask = np.zeros((h+2, w+2), np.uint8)\n",
    "    seed_pt = None\n",
    "    fixed_range = True\n",
    "    connectivity = 4\n",
    "\n",
    "    def update(dummy=None):\n",
    "        if seed_pt is None:\n",
    "            cv2.imshow('floodfill', img)\n",
    "            return\n",
    "        flooded = img.copy()\n",
    "        mask[:] = 0\n",
    "\n",
    "        # get current positions of trackbars\n",
    "        r = cv2.getTrackbarPos('R','floodfill')\n",
    "        g = cv2.getTrackbarPos('G','floodfill')\n",
    "        b = cv2.getTrackbarPos('B','floodfill')\n",
    "        \n",
    "        lo = cv2.getTrackbarPos('lo', 'floodfill')\n",
    "        hi = cv2.getTrackbarPos('hi', 'floodfill')\n",
    "        flags = connectivity\n",
    "        if fixed_range:\n",
    "            flags |= cv2.FLOODFILL_FIXED_RANGE\n",
    "        cv2.floodFill(flooded, mask, seed_pt, (b, g, r), (lo,)*3, (hi,)*3, flags)\n",
    "        cv2.circle(flooded, seed_pt, 2, (0, 0, 255), -1)\n",
    "        cv2.imshow('floodfill', flooded)\n",
    "\n",
    "    def onmouse(event, x, y, flags, param):\n",
    "        global seed_pt\n",
    "        if flags & cv2.EVENT_FLAG_LBUTTON:\n",
    "            seed_pt = x, y\n",
    "            update()\n",
    "\n",
    "    update()\n",
    "    cv2.setMouseCallback('floodfill', onmouse)\n",
    "\n",
    "    cv2.createTrackbar('R','floodfill',0,255,update)\n",
    "    cv2.createTrackbar('G','floodfill',0,255,update)\n",
    "    cv2.createTrackbar('B','floodfill',0,255,update)\n",
    "\n",
    "    cv2.createTrackbar('lo', 'floodfill', 20, 255, update)\n",
    "    cv2.createTrackbar('hi', 'floodfill', 20, 255, update)\n",
    "\n",
    "    while True:\n",
    "        ch = 0xFF & cv2.waitKey()\n",
    "        if ch == 27:\n",
    "            break\n",
    "        if ch == ord('f'):\n",
    "            fixed_range = not fixed_range\n",
    "            print('using %s range' % ('floating', 'fixed')[fixed_range])\n",
    "            update()\n",
    "        if ch == ord('c'):\n",
    "            connectivity = 12-connectivity\n",
    "            print('connectivity =', connectivity)\n",
    "            update()\n",
    "    cv2.destroyAllWindows()\n"
   ]
  },
  {
   "cell_type": "markdown",
   "metadata": {},
   "source": [
    "The output looks like this : \n",
    "    \n",
    "<img src=\"captures/floodfill.png\">"
   ]
  },
  {
   "cell_type": "markdown",
   "metadata": {},
   "source": [
    "<hr>"
   ]
  }
 ],
 "metadata": {
  "kernelspec": {
   "display_name": "Python 2",
   "language": "python",
   "name": "python2"
  },
  "language_info": {
   "codemirror_mode": {
    "name": "ipython",
    "version": 2
   },
   "file_extension": ".py",
   "mimetype": "text/x-python",
   "name": "python",
   "nbconvert_exporter": "python",
   "pygments_lexer": "ipython2",
   "version": "2.7.12"
  }
 },
 "nbformat": 4,
 "nbformat_minor": 2
}
