{
 "cells": [
  {
   "cell_type": "markdown",
   "metadata": {},
   "source": [
    "# Texture flow direction estimation.\n",
    "\n",
    "<hr>\n",
    "\n",
    "This example shows how we can use cv2.cornerEigenValsAndVecs function to estimate image texture flow direction.\n",
    "\n",
    "Here's our input image:"
   ]
  },
  {
   "cell_type": "markdown",
   "metadata": {},
   "source": [
    "![Input_Image](https://raw.githubusercontent.com/Applied-Programming/Computer-Vision/master/images/starry_night.jpg)"
   ]
  },
  {
   "cell_type": "code",
   "execution_count": null,
   "metadata": {
    "collapsed": true
   },
   "outputs": [],
   "source": [
    "# Python 2/3 compatibility\n",
    "from __future__ import print_function\n",
    "\n",
    "import numpy as np\n",
    "import cv2\n",
    "\n",
    "if __name__ == '__main__':\n",
    "    import sys\n",
    "    fn = 'images/starry_night.jpg'\n",
    "\n",
    "    img = cv2.imread(fn)\n",
    "    if img is None:\n",
    "        print('Failed to load image file:', fn)\n",
    "        sys.exit(1)\n",
    "\n",
    "    gray = cv2.cvtColor(img, cv2.COLOR_BGR2GRAY)\n",
    "    h, w = img.shape[:2]\n",
    "\n",
    "    eigen = cv2.cornerEigenValsAndVecs(gray, 15, 3)\n",
    "    eigen = eigen.reshape(h, w, 3, 2)  # [[e1, e2], v1, v2]\n",
    "    flow = eigen[:,:,2]\n",
    "\n",
    "    vis = img.copy()\n",
    "    vis[:] = (192 + np.uint32(vis)) / 2\n",
    "    d = 12\n",
    "    points =  np.dstack( np.mgrid[d/2:w:d, d/2:h:d] ).reshape(-1, 2)\n",
    "    for x, y in np.int32(points):\n",
    "       vx, vy = np.int32(flow[y, x]*d)\n",
    "       cv2.line(vis, (x-vx, y-vy), (x+vx, y+vy), (0, 0, 0), 1, cv2.LINE_AA)\n",
    "    cv2.imshow('input', img)\n",
    "    cv2.imshow('flow', vis)\n",
    "    cv2.waitKey()"
   ]
  },
  {
   "cell_type": "markdown",
   "metadata": {},
   "source": [
    "By running the script, we get the following output image which shows the texture flow as we intended."
   ]
  },
  {
   "cell_type": "markdown",
   "metadata": {},
   "source": [
    "![Output](https://raw.githubusercontent.com/Applied-Programming/Computer-Vision/master/results/textureflow.jpg)"
   ]
  },
  {
   "cell_type": "markdown",
   "metadata": {},
   "source": [
    "<hr>"
   ]
  }
 ],
 "metadata": {
  "kernelspec": {
   "display_name": "Python 2",
   "language": "python",
   "name": "python2"
  },
  "language_info": {
   "codemirror_mode": {
    "name": "ipython",
    "version": 2
   },
   "file_extension": ".py",
   "mimetype": "text/x-python",
   "name": "python",
   "nbconvert_exporter": "python",
   "pygments_lexer": "ipython2",
   "version": "2.7.12"
  }
 },
 "nbformat": 4,
 "nbformat_minor": 2
}
